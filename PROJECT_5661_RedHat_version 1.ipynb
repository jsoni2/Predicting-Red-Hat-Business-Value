{
 "cells": [
  {
   "cell_type": "markdown",
   "metadata": {},
   "source": [
    "### CS_5661 PROJECT : RedHat Business Prediction"
   ]
  },
  {
   "cell_type": "markdown",
   "metadata": {},
   "source": [
    "#### Step 1: Import all the Libraries needed"
   ]
  },
  {
   "cell_type": "code",
   "execution_count": 33,
   "metadata": {
    "collapsed": true
   },
   "outputs": [],
   "source": [
    "import pandas as pd\n",
    "import numpy as np\n",
    "import xlrd"
   ]
  },
  {
   "cell_type": "markdown",
   "metadata": {},
   "source": [
    "#### Step 2 : Read the people dataset & Print it"
   ]
  },
  {
   "cell_type": "code",
   "execution_count": 34,
   "metadata": {
    "collapsed": false,
    "scrolled": false
   },
   "outputs": [
    {
     "data": {
      "text/html": [
       "<div>\n",
       "<table border=\"1\" class=\"dataframe\">\n",
       "  <thead>\n",
       "    <tr style=\"text-align: right;\">\n",
       "      <th></th>\n",
       "      <th>people_id</th>\n",
       "      <th>char_1</th>\n",
       "      <th>group_1</th>\n",
       "      <th>char_2</th>\n",
       "      <th>date</th>\n",
       "      <th>char_3</th>\n",
       "      <th>char_4</th>\n",
       "      <th>char_5</th>\n",
       "      <th>char_6</th>\n",
       "      <th>char_7</th>\n",
       "      <th>...</th>\n",
       "      <th>char_29</th>\n",
       "      <th>char_30</th>\n",
       "      <th>char_31</th>\n",
       "      <th>char_32</th>\n",
       "      <th>char_33</th>\n",
       "      <th>char_34</th>\n",
       "      <th>char_35</th>\n",
       "      <th>char_36</th>\n",
       "      <th>char_37</th>\n",
       "      <th>char_38</th>\n",
       "    </tr>\n",
       "  </thead>\n",
       "  <tbody>\n",
       "    <tr>\n",
       "      <th>0</th>\n",
       "      <td>ppl_100</td>\n",
       "      <td>type 2</td>\n",
       "      <td>group 17304</td>\n",
       "      <td>type 2</td>\n",
       "      <td>2021-06-29</td>\n",
       "      <td>type 5</td>\n",
       "      <td>type 5</td>\n",
       "      <td>type 5</td>\n",
       "      <td>type 3</td>\n",
       "      <td>type 11</td>\n",
       "      <td>...</td>\n",
       "      <td>False</td>\n",
       "      <td>True</td>\n",
       "      <td>True</td>\n",
       "      <td>False</td>\n",
       "      <td>False</td>\n",
       "      <td>True</td>\n",
       "      <td>True</td>\n",
       "      <td>True</td>\n",
       "      <td>False</td>\n",
       "      <td>36</td>\n",
       "    </tr>\n",
       "    <tr>\n",
       "      <th>1</th>\n",
       "      <td>ppl_100002</td>\n",
       "      <td>type 2</td>\n",
       "      <td>group 8688</td>\n",
       "      <td>type 3</td>\n",
       "      <td>2021-01-06</td>\n",
       "      <td>type 28</td>\n",
       "      <td>type 9</td>\n",
       "      <td>type 5</td>\n",
       "      <td>type 3</td>\n",
       "      <td>type 11</td>\n",
       "      <td>...</td>\n",
       "      <td>False</td>\n",
       "      <td>True</td>\n",
       "      <td>True</td>\n",
       "      <td>True</td>\n",
       "      <td>True</td>\n",
       "      <td>True</td>\n",
       "      <td>True</td>\n",
       "      <td>True</td>\n",
       "      <td>False</td>\n",
       "      <td>76</td>\n",
       "    </tr>\n",
       "    <tr>\n",
       "      <th>2</th>\n",
       "      <td>ppl_100003</td>\n",
       "      <td>type 2</td>\n",
       "      <td>group 33592</td>\n",
       "      <td>type 3</td>\n",
       "      <td>2022-06-10</td>\n",
       "      <td>type 4</td>\n",
       "      <td>type 8</td>\n",
       "      <td>type 5</td>\n",
       "      <td>type 2</td>\n",
       "      <td>type 5</td>\n",
       "      <td>...</td>\n",
       "      <td>False</td>\n",
       "      <td>False</td>\n",
       "      <td>True</td>\n",
       "      <td>True</td>\n",
       "      <td>True</td>\n",
       "      <td>True</td>\n",
       "      <td>False</td>\n",
       "      <td>True</td>\n",
       "      <td>True</td>\n",
       "      <td>99</td>\n",
       "    </tr>\n",
       "    <tr>\n",
       "      <th>3</th>\n",
       "      <td>ppl_100004</td>\n",
       "      <td>type 2</td>\n",
       "      <td>group 22593</td>\n",
       "      <td>type 3</td>\n",
       "      <td>2022-07-20</td>\n",
       "      <td>type 40</td>\n",
       "      <td>type 25</td>\n",
       "      <td>type 9</td>\n",
       "      <td>type 4</td>\n",
       "      <td>type 16</td>\n",
       "      <td>...</td>\n",
       "      <td>True</td>\n",
       "      <td>True</td>\n",
       "      <td>True</td>\n",
       "      <td>True</td>\n",
       "      <td>True</td>\n",
       "      <td>True</td>\n",
       "      <td>True</td>\n",
       "      <td>True</td>\n",
       "      <td>True</td>\n",
       "      <td>76</td>\n",
       "    </tr>\n",
       "    <tr>\n",
       "      <th>4</th>\n",
       "      <td>ppl_100006</td>\n",
       "      <td>type 2</td>\n",
       "      <td>group 6534</td>\n",
       "      <td>type 3</td>\n",
       "      <td>2022-07-27</td>\n",
       "      <td>type 40</td>\n",
       "      <td>type 25</td>\n",
       "      <td>type 9</td>\n",
       "      <td>type 3</td>\n",
       "      <td>type 8</td>\n",
       "      <td>...</td>\n",
       "      <td>False</td>\n",
       "      <td>False</td>\n",
       "      <td>True</td>\n",
       "      <td>False</td>\n",
       "      <td>False</td>\n",
       "      <td>False</td>\n",
       "      <td>True</td>\n",
       "      <td>True</td>\n",
       "      <td>False</td>\n",
       "      <td>84</td>\n",
       "    </tr>\n",
       "  </tbody>\n",
       "</table>\n",
       "<p>5 rows × 41 columns</p>\n",
       "</div>"
      ],
      "text/plain": [
       "    people_id  char_1      group_1  char_2        date   char_3   char_4  \\\n",
       "0     ppl_100  type 2  group 17304  type 2  2021-06-29   type 5   type 5   \n",
       "1  ppl_100002  type 2   group 8688  type 3  2021-01-06  type 28   type 9   \n",
       "2  ppl_100003  type 2  group 33592  type 3  2022-06-10   type 4   type 8   \n",
       "3  ppl_100004  type 2  group 22593  type 3  2022-07-20  type 40  type 25   \n",
       "4  ppl_100006  type 2   group 6534  type 3  2022-07-27  type 40  type 25   \n",
       "\n",
       "   char_5  char_6   char_7   ...   char_29 char_30 char_31 char_32 char_33  \\\n",
       "0  type 5  type 3  type 11   ...     False    True    True   False   False   \n",
       "1  type 5  type 3  type 11   ...     False    True    True    True    True   \n",
       "2  type 5  type 2   type 5   ...     False   False    True    True    True   \n",
       "3  type 9  type 4  type 16   ...      True    True    True    True    True   \n",
       "4  type 9  type 3   type 8   ...     False   False    True   False   False   \n",
       "\n",
       "  char_34 char_35 char_36 char_37 char_38  \n",
       "0    True    True    True   False      36  \n",
       "1    True    True    True   False      76  \n",
       "2    True   False    True    True      99  \n",
       "3    True    True    True    True      76  \n",
       "4   False    True    True   False      84  \n",
       "\n",
       "[5 rows x 41 columns]"
      ]
     },
     "execution_count": 34,
     "metadata": {},
     "output_type": "execute_result"
    }
   ],
   "source": [
    "df = pd.read_csv(\"people.csv\")\n",
    "df.head()\n"
   ]
  },
  {
   "cell_type": "markdown",
   "metadata": {},
   "source": [
    "#### Step 3 : Read the activity_training dataset & print it"
   ]
  },
  {
   "cell_type": "code",
   "execution_count": 35,
   "metadata": {
    "collapsed": false,
    "scrolled": true
   },
   "outputs": [
    {
     "data": {
      "text/html": [
       "<div>\n",
       "<table border=\"1\" class=\"dataframe\">\n",
       "  <thead>\n",
       "    <tr style=\"text-align: right;\">\n",
       "      <th></th>\n",
       "      <th>people_id</th>\n",
       "      <th>activity_id</th>\n",
       "      <th>date</th>\n",
       "      <th>activity_category</th>\n",
       "      <th>char_1</th>\n",
       "      <th>char_2</th>\n",
       "      <th>char_3</th>\n",
       "      <th>char_4</th>\n",
       "      <th>char_5</th>\n",
       "      <th>char_6</th>\n",
       "      <th>char_7</th>\n",
       "      <th>char_8</th>\n",
       "      <th>char_9</th>\n",
       "      <th>char_10</th>\n",
       "      <th>outcome</th>\n",
       "    </tr>\n",
       "  </thead>\n",
       "  <tbody>\n",
       "    <tr>\n",
       "      <th>0</th>\n",
       "      <td>ppl_100</td>\n",
       "      <td>act2_1734928</td>\n",
       "      <td>2023-08-26</td>\n",
       "      <td>type 4</td>\n",
       "      <td>NaN</td>\n",
       "      <td>NaN</td>\n",
       "      <td>NaN</td>\n",
       "      <td>NaN</td>\n",
       "      <td>NaN</td>\n",
       "      <td>NaN</td>\n",
       "      <td>NaN</td>\n",
       "      <td>NaN</td>\n",
       "      <td>NaN</td>\n",
       "      <td>type 76</td>\n",
       "      <td>0</td>\n",
       "    </tr>\n",
       "    <tr>\n",
       "      <th>1</th>\n",
       "      <td>ppl_100</td>\n",
       "      <td>act2_2434093</td>\n",
       "      <td>2022-09-27</td>\n",
       "      <td>type 2</td>\n",
       "      <td>NaN</td>\n",
       "      <td>NaN</td>\n",
       "      <td>NaN</td>\n",
       "      <td>NaN</td>\n",
       "      <td>NaN</td>\n",
       "      <td>NaN</td>\n",
       "      <td>NaN</td>\n",
       "      <td>NaN</td>\n",
       "      <td>NaN</td>\n",
       "      <td>type 1</td>\n",
       "      <td>0</td>\n",
       "    </tr>\n",
       "    <tr>\n",
       "      <th>2</th>\n",
       "      <td>ppl_100</td>\n",
       "      <td>act2_3404049</td>\n",
       "      <td>2022-09-27</td>\n",
       "      <td>type 2</td>\n",
       "      <td>NaN</td>\n",
       "      <td>NaN</td>\n",
       "      <td>NaN</td>\n",
       "      <td>NaN</td>\n",
       "      <td>NaN</td>\n",
       "      <td>NaN</td>\n",
       "      <td>NaN</td>\n",
       "      <td>NaN</td>\n",
       "      <td>NaN</td>\n",
       "      <td>type 1</td>\n",
       "      <td>0</td>\n",
       "    </tr>\n",
       "    <tr>\n",
       "      <th>3</th>\n",
       "      <td>ppl_100</td>\n",
       "      <td>act2_3651215</td>\n",
       "      <td>2023-08-04</td>\n",
       "      <td>type 2</td>\n",
       "      <td>NaN</td>\n",
       "      <td>NaN</td>\n",
       "      <td>NaN</td>\n",
       "      <td>NaN</td>\n",
       "      <td>NaN</td>\n",
       "      <td>NaN</td>\n",
       "      <td>NaN</td>\n",
       "      <td>NaN</td>\n",
       "      <td>NaN</td>\n",
       "      <td>type 1</td>\n",
       "      <td>0</td>\n",
       "    </tr>\n",
       "    <tr>\n",
       "      <th>4</th>\n",
       "      <td>ppl_100</td>\n",
       "      <td>act2_4109017</td>\n",
       "      <td>2023-08-26</td>\n",
       "      <td>type 2</td>\n",
       "      <td>NaN</td>\n",
       "      <td>NaN</td>\n",
       "      <td>NaN</td>\n",
       "      <td>NaN</td>\n",
       "      <td>NaN</td>\n",
       "      <td>NaN</td>\n",
       "      <td>NaN</td>\n",
       "      <td>NaN</td>\n",
       "      <td>NaN</td>\n",
       "      <td>type 1</td>\n",
       "      <td>0</td>\n",
       "    </tr>\n",
       "  </tbody>\n",
       "</table>\n",
       "</div>"
      ],
      "text/plain": [
       "  people_id   activity_id        date activity_category char_1 char_2 char_3  \\\n",
       "0   ppl_100  act2_1734928  2023-08-26            type 4    NaN    NaN    NaN   \n",
       "1   ppl_100  act2_2434093  2022-09-27            type 2    NaN    NaN    NaN   \n",
       "2   ppl_100  act2_3404049  2022-09-27            type 2    NaN    NaN    NaN   \n",
       "3   ppl_100  act2_3651215  2023-08-04            type 2    NaN    NaN    NaN   \n",
       "4   ppl_100  act2_4109017  2023-08-26            type 2    NaN    NaN    NaN   \n",
       "\n",
       "  char_4 char_5 char_6 char_7 char_8 char_9  char_10  outcome  \n",
       "0    NaN    NaN    NaN    NaN    NaN    NaN  type 76        0  \n",
       "1    NaN    NaN    NaN    NaN    NaN    NaN   type 1        0  \n",
       "2    NaN    NaN    NaN    NaN    NaN    NaN   type 1        0  \n",
       "3    NaN    NaN    NaN    NaN    NaN    NaN   type 1        0  \n",
       "4    NaN    NaN    NaN    NaN    NaN    NaN   type 1        0  "
      ]
     },
     "execution_count": 35,
     "metadata": {},
     "output_type": "execute_result"
    }
   ],
   "source": [
    "df_train1 = pd.read_csv(\"act_train.csv\")\n",
    "#df_train2 = pd.read_csv(\"C:/Masters/5661/Project REDHAT/act_train/act_train.csv\")\n",
    "df_train1.head()"
   ]
  },
  {
   "cell_type": "markdown",
   "metadata": {},
   "source": [
    "#### Step 4 : Drop some features which are difficult to convert in Activity_training Dataset"
   ]
  },
  {
   "cell_type": "code",
   "execution_count": 36,
   "metadata": {
    "collapsed": false
   },
   "outputs": [
    {
     "data": {
      "text/plain": [
       "(157615, 12)"
      ]
     },
     "execution_count": 36,
     "metadata": {},
     "output_type": "execute_result"
    }
   ],
   "source": [
    "#Drop Charector column that are not required from feature matrix in activity table\n",
    "df_train1 = df_train1.drop('activity_id', axis=1)\n",
    "df_train1 = df_train1.drop('date', axis=1)\n",
    "df_train1 = df_train1.drop('char_10', axis=1)\n",
    "\n",
    "# drop colums with NAN for easier machine learning and remove complexity\n",
    "df_train1 = df_train1.dropna(how='any')\n",
    "\n",
    "df_train1.head()\n",
    "df_train1.shape"
   ]
  },
  {
   "cell_type": "markdown",
   "metadata": {},
   "source": [
    "#### Step 5: Perform One Hot Encoding on Activity_training Dataset"
   ]
  },
  {
   "cell_type": "code",
   "execution_count": 37,
   "metadata": {
    "collapsed": false
   },
   "outputs": [
    {
     "data": {
      "text/plain": [
       "(157615, 161)"
      ]
     },
     "execution_count": 37,
     "metadata": {},
     "output_type": "execute_result"
    }
   ],
   "source": [
    "# perform Onehot encoding on remaining feature colums\n",
    "cols_to_transform = ['activity_category','char_1','char_2','char_3','char_4','char_5','char_6','char_7','char_8','char_9']\n",
    "for colums in cols_to_transform:\n",
    "    df_with_dummies = pd.get_dummies(df_train1[colums])\n",
    "    df_train1 = df_train1.drop(colums, axis=1)\n",
    "    df_train1 = df_train1.join(df_with_dummies, lsuffix='_left', rsuffix='_right')\n",
    "\n",
    "df_train1.head()\n",
    "df_train1.shape"
   ]
  },
  {
   "cell_type": "markdown",
   "metadata": {},
   "source": [
    "#### Step 6 : Define Label Vector"
   ]
  },
  {
   "cell_type": "code",
   "execution_count": 38,
   "metadata": {
    "collapsed": false
   },
   "outputs": [
    {
     "data": {
      "text/plain": [
       "52         0\n",
       "105        0\n",
       "106        0\n",
       "107        0\n",
       "108        0\n",
       "124        1\n",
       "125        1\n",
       "126        1\n",
       "127        1\n",
       "128        1\n",
       "129        1\n",
       "130        1\n",
       "186        0\n",
       "187        0\n",
       "206        0\n",
       "219        1\n",
       "220        1\n",
       "231        0\n",
       "232        0\n",
       "243        0\n",
       "250        1\n",
       "251        1\n",
       "252        1\n",
       "253        1\n",
       "254        1\n",
       "261        0\n",
       "262        1\n",
       "263        0\n",
       "268        0\n",
       "279        1\n",
       "          ..\n",
       "2196920    0\n",
       "2196922    0\n",
       "2196927    0\n",
       "2196929    1\n",
       "2196930    1\n",
       "2196931    1\n",
       "2197021    0\n",
       "2197022    0\n",
       "2197023    0\n",
       "2197024    0\n",
       "2197025    0\n",
       "2197026    0\n",
       "2197027    0\n",
       "2197028    0\n",
       "2197029    0\n",
       "2197030    0\n",
       "2197031    0\n",
       "2197032    0\n",
       "2197035    1\n",
       "2197144    0\n",
       "2197157    0\n",
       "2197158    0\n",
       "2197163    0\n",
       "2197192    0\n",
       "2197195    0\n",
       "2197196    0\n",
       "2197220    1\n",
       "2197227    1\n",
       "2197233    0\n",
       "2197245    1\n",
       "Name: outcome, dtype: int64"
      ]
     },
     "execution_count": 38,
     "metadata": {},
     "output_type": "execute_result"
    }
   ],
   "source": [
    "y_activity=df_train1['outcome']\n",
    "y_activity"
   ]
  },
  {
   "cell_type": "code",
   "execution_count": 39,
   "metadata": {
    "collapsed": false
   },
   "outputs": [
    {
     "data": {
      "text/html": [
       "<div>\n",
       "<table border=\"1\" class=\"dataframe\">\n",
       "  <thead>\n",
       "    <tr style=\"text-align: right;\">\n",
       "      <th></th>\n",
       "      <th>people_id</th>\n",
       "      <th>type 1_left</th>\n",
       "      <th>type 1_right</th>\n",
       "      <th>type 10_left</th>\n",
       "      <th>type 11_left</th>\n",
       "      <th>type 12_left</th>\n",
       "      <th>type 13_left</th>\n",
       "      <th>type 14_left</th>\n",
       "      <th>type 15_left</th>\n",
       "      <th>type 16_left</th>\n",
       "      <th>...</th>\n",
       "      <th>type 18_right</th>\n",
       "      <th>type 19</th>\n",
       "      <th>type 2</th>\n",
       "      <th>type 3</th>\n",
       "      <th>type 4</th>\n",
       "      <th>type 5</th>\n",
       "      <th>type 6_right</th>\n",
       "      <th>type 7_right</th>\n",
       "      <th>type 8_right</th>\n",
       "      <th>type 9</th>\n",
       "    </tr>\n",
       "  </thead>\n",
       "  <tbody>\n",
       "    <tr>\n",
       "      <th>52</th>\n",
       "      <td>ppl_100025</td>\n",
       "      <td>1</td>\n",
       "      <td>0</td>\n",
       "      <td>0</td>\n",
       "      <td>0</td>\n",
       "      <td>0</td>\n",
       "      <td>0</td>\n",
       "      <td>0</td>\n",
       "      <td>0</td>\n",
       "      <td>0</td>\n",
       "      <td>...</td>\n",
       "      <td>0</td>\n",
       "      <td>0</td>\n",
       "      <td>0</td>\n",
       "      <td>0</td>\n",
       "      <td>0</td>\n",
       "      <td>0</td>\n",
       "      <td>0</td>\n",
       "      <td>0</td>\n",
       "      <td>1</td>\n",
       "      <td>0</td>\n",
       "    </tr>\n",
       "    <tr>\n",
       "      <th>105</th>\n",
       "      <td>ppl_100033</td>\n",
       "      <td>1</td>\n",
       "      <td>0</td>\n",
       "      <td>0</td>\n",
       "      <td>0</td>\n",
       "      <td>0</td>\n",
       "      <td>0</td>\n",
       "      <td>0</td>\n",
       "      <td>0</td>\n",
       "      <td>0</td>\n",
       "      <td>...</td>\n",
       "      <td>0</td>\n",
       "      <td>0</td>\n",
       "      <td>0</td>\n",
       "      <td>0</td>\n",
       "      <td>0</td>\n",
       "      <td>0</td>\n",
       "      <td>0</td>\n",
       "      <td>0</td>\n",
       "      <td>0</td>\n",
       "      <td>0</td>\n",
       "    </tr>\n",
       "    <tr>\n",
       "      <th>106</th>\n",
       "      <td>ppl_100033</td>\n",
       "      <td>1</td>\n",
       "      <td>0</td>\n",
       "      <td>0</td>\n",
       "      <td>0</td>\n",
       "      <td>0</td>\n",
       "      <td>0</td>\n",
       "      <td>0</td>\n",
       "      <td>0</td>\n",
       "      <td>0</td>\n",
       "      <td>...</td>\n",
       "      <td>0</td>\n",
       "      <td>0</td>\n",
       "      <td>0</td>\n",
       "      <td>0</td>\n",
       "      <td>0</td>\n",
       "      <td>0</td>\n",
       "      <td>0</td>\n",
       "      <td>0</td>\n",
       "      <td>0</td>\n",
       "      <td>0</td>\n",
       "    </tr>\n",
       "    <tr>\n",
       "      <th>107</th>\n",
       "      <td>ppl_100033</td>\n",
       "      <td>1</td>\n",
       "      <td>0</td>\n",
       "      <td>0</td>\n",
       "      <td>0</td>\n",
       "      <td>0</td>\n",
       "      <td>0</td>\n",
       "      <td>0</td>\n",
       "      <td>0</td>\n",
       "      <td>0</td>\n",
       "      <td>...</td>\n",
       "      <td>0</td>\n",
       "      <td>0</td>\n",
       "      <td>1</td>\n",
       "      <td>0</td>\n",
       "      <td>0</td>\n",
       "      <td>0</td>\n",
       "      <td>0</td>\n",
       "      <td>0</td>\n",
       "      <td>0</td>\n",
       "      <td>0</td>\n",
       "    </tr>\n",
       "    <tr>\n",
       "      <th>108</th>\n",
       "      <td>ppl_100033</td>\n",
       "      <td>1</td>\n",
       "      <td>0</td>\n",
       "      <td>0</td>\n",
       "      <td>0</td>\n",
       "      <td>0</td>\n",
       "      <td>0</td>\n",
       "      <td>0</td>\n",
       "      <td>0</td>\n",
       "      <td>0</td>\n",
       "      <td>...</td>\n",
       "      <td>0</td>\n",
       "      <td>0</td>\n",
       "      <td>0</td>\n",
       "      <td>0</td>\n",
       "      <td>0</td>\n",
       "      <td>0</td>\n",
       "      <td>0</td>\n",
       "      <td>0</td>\n",
       "      <td>1</td>\n",
       "      <td>0</td>\n",
       "    </tr>\n",
       "  </tbody>\n",
       "</table>\n",
       "<p>5 rows × 160 columns</p>\n",
       "</div>"
      ],
      "text/plain": [
       "      people_id  type 1_left  type 1_right  type 10_left  type 11_left  \\\n",
       "52   ppl_100025            1             0             0             0   \n",
       "105  ppl_100033            1             0             0             0   \n",
       "106  ppl_100033            1             0             0             0   \n",
       "107  ppl_100033            1             0             0             0   \n",
       "108  ppl_100033            1             0             0             0   \n",
       "\n",
       "     type 12_left  type 13_left  type 14_left  type 15_left  type 16_left  \\\n",
       "52              0             0             0             0             0   \n",
       "105             0             0             0             0             0   \n",
       "106             0             0             0             0             0   \n",
       "107             0             0             0             0             0   \n",
       "108             0             0             0             0             0   \n",
       "\n",
       "      ...    type 18_right  type 19  type 2  type 3  type 4  type 5  \\\n",
       "52    ...                0        0       0       0       0       0   \n",
       "105   ...                0        0       0       0       0       0   \n",
       "106   ...                0        0       0       0       0       0   \n",
       "107   ...                0        0       1       0       0       0   \n",
       "108   ...                0        0       0       0       0       0   \n",
       "\n",
       "     type 6_right  type 7_right  type 8_right  type 9  \n",
       "52              0             0             1       0  \n",
       "105             0             0             0       0  \n",
       "106             0             0             0       0  \n",
       "107             0             0             0       0  \n",
       "108             0             0             1       0  \n",
       "\n",
       "[5 rows x 160 columns]"
      ]
     },
     "execution_count": 39,
     "metadata": {},
     "output_type": "execute_result"
    }
   ],
   "source": [
    "#drop label column that are not required from feature matrix in activity table to seperate y axis\n",
    "df_train1 = df_train1.drop('outcome', axis=1)\n",
    "df_train1.head()"
   ]
  },
  {
   "cell_type": "markdown",
   "metadata": {},
   "source": [
    "#### Step 6 : Drop some features which are difficult to convert in People Dataset"
   ]
  },
  {
   "cell_type": "code",
   "execution_count": 40,
   "metadata": {
    "collapsed": false
   },
   "outputs": [
    {
     "data": {
      "text/plain": [
       "(189118, 39)"
      ]
     },
     "execution_count": 40,
     "metadata": {},
     "output_type": "execute_result"
    }
   ],
   "source": [
    "#drop feature column that are not required from feature matrix in people table \n",
    "df = df.drop('group_1', axis=1)\n",
    "df = df.drop('date', axis=1)\n",
    "\n",
    "df.head()\n",
    "df.shape"
   ]
  },
  {
   "cell_type": "markdown",
   "metadata": {},
   "source": [
    "#### Step 7: Perform One Hot Encoding on People Dataset"
   ]
  },
  {
   "cell_type": "code",
   "execution_count": 41,
   "metadata": {
    "collapsed": false
   },
   "outputs": [
    {
     "data": {
      "text/plain": [
       "(189118, 161)"
      ]
     },
     "execution_count": 41,
     "metadata": {},
     "output_type": "execute_result"
    }
   ],
   "source": [
    "# perform Onehot encoding on remaining feature colums in people table\n",
    "col_trans_ppl = ['char_1','char_2','char_3','char_4','char_5','char_6','char_7','char_8','char_9']\n",
    "for colums in col_trans_ppl:\n",
    "    df_dummies = pd.get_dummies(df[colums])\n",
    "    df = df.drop(colums, axis=1)\n",
    "    df = df.join(df_dummies, lsuffix='_left', rsuffix='_right')\n",
    "\n",
    "df.head()\n",
    "df.shape"
   ]
  },
  {
   "cell_type": "markdown",
   "metadata": {},
   "source": [
    "#### Step 8 : Merge the two Datasets"
   ]
  },
  {
   "cell_type": "code",
   "execution_count": 42,
   "metadata": {
    "collapsed": false
   },
   "outputs": [
    {
     "data": {
      "text/html": [
       "<div>\n",
       "<table border=\"1\" class=\"dataframe\">\n",
       "  <thead>\n",
       "    <tr style=\"text-align: right;\">\n",
       "      <th></th>\n",
       "      <th>people_id</th>\n",
       "      <th>type 1_left_x</th>\n",
       "      <th>type 1_right_x</th>\n",
       "      <th>type 10_left_x</th>\n",
       "      <th>type 11_left_x</th>\n",
       "      <th>type 12_left_x</th>\n",
       "      <th>type 13_left_x</th>\n",
       "      <th>type 14_left_x</th>\n",
       "      <th>type 15_left_x</th>\n",
       "      <th>type 16_left_x</th>\n",
       "      <th>...</th>\n",
       "      <th>type 8_left_y</th>\n",
       "      <th>type 1</th>\n",
       "      <th>type 2_y</th>\n",
       "      <th>type 3_right_y</th>\n",
       "      <th>type 4_y</th>\n",
       "      <th>type 5_y</th>\n",
       "      <th>type 6</th>\n",
       "      <th>type 7</th>\n",
       "      <th>type 8_right_y</th>\n",
       "      <th>type 9_y</th>\n",
       "    </tr>\n",
       "  </thead>\n",
       "  <tbody>\n",
       "    <tr>\n",
       "      <th>0</th>\n",
       "      <td>ppl_100025</td>\n",
       "      <td>1</td>\n",
       "      <td>0</td>\n",
       "      <td>0</td>\n",
       "      <td>0</td>\n",
       "      <td>0</td>\n",
       "      <td>0</td>\n",
       "      <td>0</td>\n",
       "      <td>0</td>\n",
       "      <td>0</td>\n",
       "      <td>...</td>\n",
       "      <td>0</td>\n",
       "      <td>0</td>\n",
       "      <td>0</td>\n",
       "      <td>0</td>\n",
       "      <td>0</td>\n",
       "      <td>0</td>\n",
       "      <td>1</td>\n",
       "      <td>0</td>\n",
       "      <td>0</td>\n",
       "      <td>0</td>\n",
       "    </tr>\n",
       "    <tr>\n",
       "      <th>1</th>\n",
       "      <td>ppl_100033</td>\n",
       "      <td>1</td>\n",
       "      <td>0</td>\n",
       "      <td>0</td>\n",
       "      <td>0</td>\n",
       "      <td>0</td>\n",
       "      <td>0</td>\n",
       "      <td>0</td>\n",
       "      <td>0</td>\n",
       "      <td>0</td>\n",
       "      <td>...</td>\n",
       "      <td>0</td>\n",
       "      <td>0</td>\n",
       "      <td>0</td>\n",
       "      <td>1</td>\n",
       "      <td>0</td>\n",
       "      <td>0</td>\n",
       "      <td>0</td>\n",
       "      <td>0</td>\n",
       "      <td>0</td>\n",
       "      <td>0</td>\n",
       "    </tr>\n",
       "    <tr>\n",
       "      <th>2</th>\n",
       "      <td>ppl_100033</td>\n",
       "      <td>1</td>\n",
       "      <td>0</td>\n",
       "      <td>0</td>\n",
       "      <td>0</td>\n",
       "      <td>0</td>\n",
       "      <td>0</td>\n",
       "      <td>0</td>\n",
       "      <td>0</td>\n",
       "      <td>0</td>\n",
       "      <td>...</td>\n",
       "      <td>0</td>\n",
       "      <td>0</td>\n",
       "      <td>0</td>\n",
       "      <td>1</td>\n",
       "      <td>0</td>\n",
       "      <td>0</td>\n",
       "      <td>0</td>\n",
       "      <td>0</td>\n",
       "      <td>0</td>\n",
       "      <td>0</td>\n",
       "    </tr>\n",
       "    <tr>\n",
       "      <th>3</th>\n",
       "      <td>ppl_100033</td>\n",
       "      <td>1</td>\n",
       "      <td>0</td>\n",
       "      <td>0</td>\n",
       "      <td>0</td>\n",
       "      <td>0</td>\n",
       "      <td>0</td>\n",
       "      <td>0</td>\n",
       "      <td>0</td>\n",
       "      <td>0</td>\n",
       "      <td>...</td>\n",
       "      <td>0</td>\n",
       "      <td>0</td>\n",
       "      <td>0</td>\n",
       "      <td>1</td>\n",
       "      <td>0</td>\n",
       "      <td>0</td>\n",
       "      <td>0</td>\n",
       "      <td>0</td>\n",
       "      <td>0</td>\n",
       "      <td>0</td>\n",
       "    </tr>\n",
       "    <tr>\n",
       "      <th>4</th>\n",
       "      <td>ppl_100033</td>\n",
       "      <td>1</td>\n",
       "      <td>0</td>\n",
       "      <td>0</td>\n",
       "      <td>0</td>\n",
       "      <td>0</td>\n",
       "      <td>0</td>\n",
       "      <td>0</td>\n",
       "      <td>0</td>\n",
       "      <td>0</td>\n",
       "      <td>...</td>\n",
       "      <td>0</td>\n",
       "      <td>0</td>\n",
       "      <td>0</td>\n",
       "      <td>1</td>\n",
       "      <td>0</td>\n",
       "      <td>0</td>\n",
       "      <td>0</td>\n",
       "      <td>0</td>\n",
       "      <td>0</td>\n",
       "      <td>0</td>\n",
       "    </tr>\n",
       "  </tbody>\n",
       "</table>\n",
       "<p>5 rows × 320 columns</p>\n",
       "</div>"
      ],
      "text/plain": [
       "    people_id  type 1_left_x  type 1_right_x  type 10_left_x  type 11_left_x  \\\n",
       "0  ppl_100025              1               0               0               0   \n",
       "1  ppl_100033              1               0               0               0   \n",
       "2  ppl_100033              1               0               0               0   \n",
       "3  ppl_100033              1               0               0               0   \n",
       "4  ppl_100033              1               0               0               0   \n",
       "\n",
       "   type 12_left_x  type 13_left_x  type 14_left_x  type 15_left_x  \\\n",
       "0               0               0               0               0   \n",
       "1               0               0               0               0   \n",
       "2               0               0               0               0   \n",
       "3               0               0               0               0   \n",
       "4               0               0               0               0   \n",
       "\n",
       "   type 16_left_x    ...     type 8_left_y  type 1  type 2_y  type 3_right_y  \\\n",
       "0               0    ...                 0       0         0               0   \n",
       "1               0    ...                 0       0         0               1   \n",
       "2               0    ...                 0       0         0               1   \n",
       "3               0    ...                 0       0         0               1   \n",
       "4               0    ...                 0       0         0               1   \n",
       "\n",
       "   type 4_y  type 5_y  type 6  type 7  type 8_right_y  type 9_y  \n",
       "0         0         0       1       0               0         0  \n",
       "1         0         0       0       0               0         0  \n",
       "2         0         0       0       0               0         0  \n",
       "3         0         0       0       0               0         0  \n",
       "4         0         0       0       0               0         0  \n",
       "\n",
       "[5 rows x 320 columns]"
      ]
     },
     "execution_count": 42,
     "metadata": {},
     "output_type": "execute_result"
    }
   ],
   "source": [
    "df_new = df_train1.merge(df, on='people_id',how='left')\n",
    "df_new.head()"
   ]
  },
  {
   "cell_type": "code",
   "execution_count": 43,
   "metadata": {
    "collapsed": false
   },
   "outputs": [],
   "source": [
    "\n",
    "\n",
    "#df_new['people_id'] = df_new['people_id'].astype('float64') \n",
    "#df_new = df_new.convert_objects(convert_numeric=True)\n",
    "#df_new['people_id'] = pd.to_numeric(df_new['people_id'])\n",
    "\n",
    "#Drop the People id as we have a updated Merged table with people and activity\n",
    "df_new = df_new.drop('people_id', axis=1)\n",
    "X = df_new\n",
    "\n",
    "Y = y_activity"
   ]
  },
  {
   "cell_type": "markdown",
   "metadata": {},
   "source": [
    "#### Step 9 : Split the data to do training and check for testing"
   ]
  },
  {
   "cell_type": "code",
   "execution_count": 65,
   "metadata": {
    "collapsed": false
   },
   "outputs": [
    {
     "name": "stderr",
     "output_type": "stream",
     "text": [
      "/Users/janak/anaconda/lib/python3.6/site-packages/sklearn/cross_validation.py:44: DeprecationWarning: This module was deprecated in version 0.18 in favor of the model_selection module into which all the refactored classes and functions are moved. Also note that the interface of the new CV iterators are different from that of this module. This module will be removed in 0.20.\n",
      "  \"This module will be removed in 0.20.\", DeprecationWarning)\n"
     ]
    }
   ],
   "source": [
    "# Randomly splitting the original dataset into training set and testing set\n",
    "# The function\"train_test_split\" from \"sklearn.cross_validation\" library performs random splitting.\n",
    "# \"test_size=0.3\" means that pick 30% of data samples for testing set, and the rest (70%) for training set.\n",
    "\n",
    "from sklearn.cross_validation import train_test_split\n",
    "#from sklearn.model_selection import train_test_split\n",
    "\n",
    "x_train, x_test, y_train, y_test = train_test_split(X, Y, test_size=0.3, random_state=2)"
   ]
  },
  {
   "cell_type": "code",
   "execution_count": 66,
   "metadata": {
    "collapsed": false
   },
   "outputs": [
    {
     "data": {
      "text/plain": [
       "(47285,)"
      ]
     },
     "execution_count": 66,
     "metadata": {},
     "output_type": "execute_result"
    }
   ],
   "source": [
    "x_train.shape\n",
    "x_test.shape\n",
    "y_train.shape\n",
    "y_test.shape"
   ]
  },
  {
   "cell_type": "markdown",
   "metadata": {},
   "source": [
    "#### Step 10 : Reduce Dimensions as the features are too large"
   ]
  },
  {
   "cell_type": "code",
   "execution_count": 67,
   "metadata": {
    "collapsed": true
   },
   "outputs": [],
   "source": [
    "### Import library for PCA\n",
    "from sklearn.decomposition import PCA"
   ]
  },
  {
   "cell_type": "code",
   "execution_count": 68,
   "metadata": {
    "collapsed": false
   },
   "outputs": [
    {
     "data": {
      "text/html": [
       "<div>\n",
       "<table border=\"1\" class=\"dataframe\">\n",
       "  <thead>\n",
       "    <tr style=\"text-align: right;\">\n",
       "      <th></th>\n",
       "      <th>0</th>\n",
       "      <th>1</th>\n",
       "      <th>2</th>\n",
       "      <th>3</th>\n",
       "      <th>4</th>\n",
       "      <th>5</th>\n",
       "      <th>6</th>\n",
       "      <th>7</th>\n",
       "      <th>8</th>\n",
       "      <th>9</th>\n",
       "      <th>...</th>\n",
       "      <th>40</th>\n",
       "      <th>41</th>\n",
       "      <th>42</th>\n",
       "      <th>43</th>\n",
       "      <th>44</th>\n",
       "      <th>45</th>\n",
       "      <th>46</th>\n",
       "      <th>47</th>\n",
       "      <th>48</th>\n",
       "      <th>49</th>\n",
       "    </tr>\n",
       "  </thead>\n",
       "  <tbody>\n",
       "    <tr>\n",
       "      <th>0</th>\n",
       "      <td>-29.234324</td>\n",
       "      <td>-0.518611</td>\n",
       "      <td>-0.800467</td>\n",
       "      <td>-0.528132</td>\n",
       "      <td>1.504303</td>\n",
       "      <td>0.154124</td>\n",
       "      <td>0.102105</td>\n",
       "      <td>0.630954</td>\n",
       "      <td>0.776154</td>\n",
       "      <td>-1.060187</td>\n",
       "      <td>...</td>\n",
       "      <td>-0.099554</td>\n",
       "      <td>-0.027513</td>\n",
       "      <td>0.003189</td>\n",
       "      <td>-0.257331</td>\n",
       "      <td>-0.200043</td>\n",
       "      <td>0.208368</td>\n",
       "      <td>-0.025456</td>\n",
       "      <td>0.018983</td>\n",
       "      <td>0.208705</td>\n",
       "      <td>0.273990</td>\n",
       "    </tr>\n",
       "    <tr>\n",
       "      <th>1</th>\n",
       "      <td>34.862525</td>\n",
       "      <td>1.969071</td>\n",
       "      <td>-0.567408</td>\n",
       "      <td>-0.030950</td>\n",
       "      <td>0.051783</td>\n",
       "      <td>-0.071202</td>\n",
       "      <td>-0.679637</td>\n",
       "      <td>-0.251427</td>\n",
       "      <td>-0.015660</td>\n",
       "      <td>0.467787</td>\n",
       "      <td>...</td>\n",
       "      <td>-0.303851</td>\n",
       "      <td>0.555557</td>\n",
       "      <td>-0.510258</td>\n",
       "      <td>0.298209</td>\n",
       "      <td>0.038355</td>\n",
       "      <td>0.051333</td>\n",
       "      <td>-0.157623</td>\n",
       "      <td>-0.286570</td>\n",
       "      <td>0.051737</td>\n",
       "      <td>0.246385</td>\n",
       "    </tr>\n",
       "    <tr>\n",
       "      <th>2</th>\n",
       "      <td>33.863945</td>\n",
       "      <td>2.208835</td>\n",
       "      <td>1.421296</td>\n",
       "      <td>-0.573924</td>\n",
       "      <td>0.378842</td>\n",
       "      <td>-0.489451</td>\n",
       "      <td>-0.643607</td>\n",
       "      <td>-0.539071</td>\n",
       "      <td>0.035378</td>\n",
       "      <td>0.943477</td>\n",
       "      <td>...</td>\n",
       "      <td>0.298460</td>\n",
       "      <td>-0.240829</td>\n",
       "      <td>-0.148533</td>\n",
       "      <td>-0.324836</td>\n",
       "      <td>0.283515</td>\n",
       "      <td>0.178380</td>\n",
       "      <td>0.127604</td>\n",
       "      <td>0.391761</td>\n",
       "      <td>0.553696</td>\n",
       "      <td>-0.498731</td>\n",
       "    </tr>\n",
       "    <tr>\n",
       "      <th>3</th>\n",
       "      <td>40.905938</td>\n",
       "      <td>2.709339</td>\n",
       "      <td>1.087537</td>\n",
       "      <td>-1.154614</td>\n",
       "      <td>0.386430</td>\n",
       "      <td>-0.504102</td>\n",
       "      <td>2.343010</td>\n",
       "      <td>0.199263</td>\n",
       "      <td>0.229896</td>\n",
       "      <td>0.419028</td>\n",
       "      <td>...</td>\n",
       "      <td>-0.027599</td>\n",
       "      <td>0.137852</td>\n",
       "      <td>-0.673557</td>\n",
       "      <td>-0.006363</td>\n",
       "      <td>-0.300838</td>\n",
       "      <td>0.437138</td>\n",
       "      <td>-0.198793</td>\n",
       "      <td>-0.109998</td>\n",
       "      <td>-0.041511</td>\n",
       "      <td>0.079601</td>\n",
       "    </tr>\n",
       "    <tr>\n",
       "      <th>4</th>\n",
       "      <td>36.757652</td>\n",
       "      <td>-2.100111</td>\n",
       "      <td>1.463354</td>\n",
       "      <td>-1.015037</td>\n",
       "      <td>0.628494</td>\n",
       "      <td>-0.919591</td>\n",
       "      <td>0.767852</td>\n",
       "      <td>-0.469801</td>\n",
       "      <td>-0.612936</td>\n",
       "      <td>-0.523363</td>\n",
       "      <td>...</td>\n",
       "      <td>0.282806</td>\n",
       "      <td>-0.270988</td>\n",
       "      <td>-0.170631</td>\n",
       "      <td>0.034619</td>\n",
       "      <td>0.343184</td>\n",
       "      <td>-0.106406</td>\n",
       "      <td>-0.015042</td>\n",
       "      <td>-0.203246</td>\n",
       "      <td>-0.371153</td>\n",
       "      <td>-0.253096</td>\n",
       "    </tr>\n",
       "  </tbody>\n",
       "</table>\n",
       "<p>5 rows × 50 columns</p>\n",
       "</div>"
      ],
      "text/plain": [
       "          0         1         2         3         4         5         6   \\\n",
       "0 -29.234324 -0.518611 -0.800467 -0.528132  1.504303  0.154124  0.102105   \n",
       "1  34.862525  1.969071 -0.567408 -0.030950  0.051783 -0.071202 -0.679637   \n",
       "2  33.863945  2.208835  1.421296 -0.573924  0.378842 -0.489451 -0.643607   \n",
       "3  40.905938  2.709339  1.087537 -1.154614  0.386430 -0.504102  2.343010   \n",
       "4  36.757652 -2.100111  1.463354 -1.015037  0.628494 -0.919591  0.767852   \n",
       "\n",
       "         7         8         9     ...           40        41        42  \\\n",
       "0  0.630954  0.776154 -1.060187    ...    -0.099554 -0.027513  0.003189   \n",
       "1 -0.251427 -0.015660  0.467787    ...    -0.303851  0.555557 -0.510258   \n",
       "2 -0.539071  0.035378  0.943477    ...     0.298460 -0.240829 -0.148533   \n",
       "3  0.199263  0.229896  0.419028    ...    -0.027599  0.137852 -0.673557   \n",
       "4 -0.469801 -0.612936 -0.523363    ...     0.282806 -0.270988 -0.170631   \n",
       "\n",
       "         43        44        45        46        47        48        49  \n",
       "0 -0.257331 -0.200043  0.208368 -0.025456  0.018983  0.208705  0.273990  \n",
       "1  0.298209  0.038355  0.051333 -0.157623 -0.286570  0.051737  0.246385  \n",
       "2 -0.324836  0.283515  0.178380  0.127604  0.391761  0.553696 -0.498731  \n",
       "3 -0.006363 -0.300838  0.437138 -0.198793 -0.109998 -0.041511  0.079601  \n",
       "4  0.034619  0.343184 -0.106406 -0.015042 -0.203246 -0.371153 -0.253096  \n",
       "\n",
       "[5 rows x 50 columns]"
      ]
     },
     "execution_count": 68,
     "metadata": {},
     "output_type": "execute_result"
    }
   ],
   "source": [
    "# reduce dimensions. Use PCA\n",
    "pca = PCA(n_components=50)\n",
    "# train the algorithim\n",
    "pca.fit(x_train)\n",
    "# transform the vector for training set\n",
    "X_transform = pca.fit_transform(x_train)\n",
    "\n",
    "# put it into a dataframe\n",
    "X_transform = pd.DataFrame(X_transform)\n",
    "X_transform.head()"
   ]
  },
  {
   "cell_type": "code",
   "execution_count": 69,
   "metadata": {
    "collapsed": false
   },
   "outputs": [
    {
     "data": {
      "text/html": [
       "<div>\n",
       "<table border=\"1\" class=\"dataframe\">\n",
       "  <thead>\n",
       "    <tr style=\"text-align: right;\">\n",
       "      <th></th>\n",
       "      <th>0</th>\n",
       "      <th>1</th>\n",
       "      <th>2</th>\n",
       "      <th>3</th>\n",
       "      <th>4</th>\n",
       "      <th>5</th>\n",
       "      <th>6</th>\n",
       "      <th>7</th>\n",
       "      <th>8</th>\n",
       "      <th>9</th>\n",
       "      <th>...</th>\n",
       "      <th>40</th>\n",
       "      <th>41</th>\n",
       "      <th>42</th>\n",
       "      <th>43</th>\n",
       "      <th>44</th>\n",
       "      <th>45</th>\n",
       "      <th>46</th>\n",
       "      <th>47</th>\n",
       "      <th>48</th>\n",
       "      <th>49</th>\n",
       "    </tr>\n",
       "  </thead>\n",
       "  <tbody>\n",
       "    <tr>\n",
       "      <th>0</th>\n",
       "      <td>33.004196</td>\n",
       "      <td>-2.147388</td>\n",
       "      <td>1.226971</td>\n",
       "      <td>-0.931523</td>\n",
       "      <td>0.885028</td>\n",
       "      <td>-0.484790</td>\n",
       "      <td>0.986896</td>\n",
       "      <td>0.119321</td>\n",
       "      <td>-0.529484</td>\n",
       "      <td>0.069734</td>\n",
       "      <td>...</td>\n",
       "      <td>0.436119</td>\n",
       "      <td>-0.505515</td>\n",
       "      <td>-0.062930</td>\n",
       "      <td>0.015072</td>\n",
       "      <td>0.441111</td>\n",
       "      <td>-0.188114</td>\n",
       "      <td>-0.004783</td>\n",
       "      <td>0.170390</td>\n",
       "      <td>-0.449194</td>\n",
       "      <td>0.184344</td>\n",
       "    </tr>\n",
       "    <tr>\n",
       "      <th>1</th>\n",
       "      <td>41.120443</td>\n",
       "      <td>1.540978</td>\n",
       "      <td>0.757724</td>\n",
       "      <td>0.510329</td>\n",
       "      <td>-1.206675</td>\n",
       "      <td>-0.892033</td>\n",
       "      <td>-0.715612</td>\n",
       "      <td>1.045846</td>\n",
       "      <td>0.419174</td>\n",
       "      <td>0.975577</td>\n",
       "      <td>...</td>\n",
       "      <td>-0.733052</td>\n",
       "      <td>0.593680</td>\n",
       "      <td>-0.511969</td>\n",
       "      <td>0.484422</td>\n",
       "      <td>0.279180</td>\n",
       "      <td>0.192128</td>\n",
       "      <td>-0.027474</td>\n",
       "      <td>0.258154</td>\n",
       "      <td>-0.071373</td>\n",
       "      <td>-0.112821</td>\n",
       "    </tr>\n",
       "    <tr>\n",
       "      <th>2</th>\n",
       "      <td>31.013290</td>\n",
       "      <td>-2.078422</td>\n",
       "      <td>-1.516363</td>\n",
       "      <td>0.718599</td>\n",
       "      <td>0.826768</td>\n",
       "      <td>-0.890457</td>\n",
       "      <td>-0.750991</td>\n",
       "      <td>-0.476414</td>\n",
       "      <td>0.151007</td>\n",
       "      <td>0.271320</td>\n",
       "      <td>...</td>\n",
       "      <td>0.081079</td>\n",
       "      <td>-0.410183</td>\n",
       "      <td>0.066365</td>\n",
       "      <td>-0.092636</td>\n",
       "      <td>-0.142843</td>\n",
       "      <td>-0.270313</td>\n",
       "      <td>0.346193</td>\n",
       "      <td>-0.012109</td>\n",
       "      <td>-0.215822</td>\n",
       "      <td>0.030861</td>\n",
       "    </tr>\n",
       "    <tr>\n",
       "      <th>3</th>\n",
       "      <td>37.135970</td>\n",
       "      <td>1.977390</td>\n",
       "      <td>0.517126</td>\n",
       "      <td>-0.600679</td>\n",
       "      <td>1.272214</td>\n",
       "      <td>0.086159</td>\n",
       "      <td>-0.329895</td>\n",
       "      <td>0.600695</td>\n",
       "      <td>0.437512</td>\n",
       "      <td>0.374376</td>\n",
       "      <td>...</td>\n",
       "      <td>0.857005</td>\n",
       "      <td>0.068324</td>\n",
       "      <td>0.068167</td>\n",
       "      <td>0.784802</td>\n",
       "      <td>0.266885</td>\n",
       "      <td>0.447455</td>\n",
       "      <td>0.181769</td>\n",
       "      <td>-0.346508</td>\n",
       "      <td>0.050704</td>\n",
       "      <td>0.333511</td>\n",
       "    </tr>\n",
       "    <tr>\n",
       "      <th>4</th>\n",
       "      <td>-48.991623</td>\n",
       "      <td>-0.043635</td>\n",
       "      <td>-0.969329</td>\n",
       "      <td>1.642233</td>\n",
       "      <td>0.878054</td>\n",
       "      <td>-0.315237</td>\n",
       "      <td>0.363022</td>\n",
       "      <td>-0.142410</td>\n",
       "      <td>-0.417575</td>\n",
       "      <td>0.091983</td>\n",
       "      <td>...</td>\n",
       "      <td>-0.192109</td>\n",
       "      <td>0.064477</td>\n",
       "      <td>0.069972</td>\n",
       "      <td>0.411554</td>\n",
       "      <td>0.016972</td>\n",
       "      <td>0.071418</td>\n",
       "      <td>-0.044940</td>\n",
       "      <td>0.169996</td>\n",
       "      <td>-0.154708</td>\n",
       "      <td>0.109302</td>\n",
       "    </tr>\n",
       "  </tbody>\n",
       "</table>\n",
       "<p>5 rows × 50 columns</p>\n",
       "</div>"
      ],
      "text/plain": [
       "          0         1         2         3         4         5         6   \\\n",
       "0  33.004196 -2.147388  1.226971 -0.931523  0.885028 -0.484790  0.986896   \n",
       "1  41.120443  1.540978  0.757724  0.510329 -1.206675 -0.892033 -0.715612   \n",
       "2  31.013290 -2.078422 -1.516363  0.718599  0.826768 -0.890457 -0.750991   \n",
       "3  37.135970  1.977390  0.517126 -0.600679  1.272214  0.086159 -0.329895   \n",
       "4 -48.991623 -0.043635 -0.969329  1.642233  0.878054 -0.315237  0.363022   \n",
       "\n",
       "         7         8         9     ...           40        41        42  \\\n",
       "0  0.119321 -0.529484  0.069734    ...     0.436119 -0.505515 -0.062930   \n",
       "1  1.045846  0.419174  0.975577    ...    -0.733052  0.593680 -0.511969   \n",
       "2 -0.476414  0.151007  0.271320    ...     0.081079 -0.410183  0.066365   \n",
       "3  0.600695  0.437512  0.374376    ...     0.857005  0.068324  0.068167   \n",
       "4 -0.142410 -0.417575  0.091983    ...    -0.192109  0.064477  0.069972   \n",
       "\n",
       "         43        44        45        46        47        48        49  \n",
       "0  0.015072  0.441111 -0.188114 -0.004783  0.170390 -0.449194  0.184344  \n",
       "1  0.484422  0.279180  0.192128 -0.027474  0.258154 -0.071373 -0.112821  \n",
       "2 -0.092636 -0.142843 -0.270313  0.346193 -0.012109 -0.215822  0.030861  \n",
       "3  0.784802  0.266885  0.447455  0.181769 -0.346508  0.050704  0.333511  \n",
       "4  0.411554  0.016972  0.071418 -0.044940  0.169996 -0.154708  0.109302  \n",
       "\n",
       "[5 rows x 50 columns]"
      ]
     },
     "execution_count": 69,
     "metadata": {},
     "output_type": "execute_result"
    }
   ],
   "source": [
    "# transform the vector for testing set\n",
    "X_transform_test = pca.fit_transform(x_test)\n",
    "# put it into a dataframe\n",
    "X_transform_test = pd.DataFrame(X_transform_test)\n",
    "\n",
    "X_transform_test.head()"
   ]
  },
  {
   "cell_type": "markdown",
   "metadata": {},
   "source": [
    "#### Step 11 : Perform random Forest"
   ]
  },
  {
   "cell_type": "code",
   "execution_count": 74,
   "metadata": {
    "collapsed": true
   },
   "outputs": [],
   "source": [
    "#Random Forest is an classifier using multiple decision trees to arive a best prediction\n",
    "\n",
    "from sklearn.ensemble import RandomForestClassifier\n",
    "\n",
    "my_RandomForest = RandomForestClassifier(n_estimators = 20, bootstrap = True,random_state=2)"
   ]
  },
  {
   "cell_type": "code",
   "execution_count": 75,
   "metadata": {
    "collapsed": false
   },
   "outputs": [
    {
     "data": {
      "text/plain": [
       "RandomForestClassifier(bootstrap=True, class_weight=None, criterion='gini',\n",
       "            max_depth=None, max_features='auto', max_leaf_nodes=None,\n",
       "            min_impurity_split=1e-07, min_samples_leaf=1,\n",
       "            min_samples_split=2, min_weight_fraction_leaf=0.0,\n",
       "            n_estimators=20, n_jobs=1, oob_score=False, random_state=2,\n",
       "            verbose=0, warm_start=False)"
      ]
     },
     "execution_count": 75,
     "metadata": {},
     "output_type": "execute_result"
    }
   ],
   "source": [
    "#train the RandomForest alg by using the FIT method\n",
    "\n",
    "my_RandomForest.fit(X_transform,y_train,sample_weight=None)"
   ]
  },
  {
   "cell_type": "code",
   "execution_count": 76,
   "metadata": {
    "collapsed": false
   },
   "outputs": [
    {
     "name": "stdout",
     "output_type": "stream",
     "text": [
      "[1 1 1 ..., 1 0 1]\n",
      "(47285,)\n"
     ]
    }
   ],
   "source": [
    "#Make prediction over the trained RandomForest alg using the testing sample:\n",
    "\n",
    "y_RandomForest_predict = my_RandomForest.predict(X_transform_test)\n",
    "\n",
    "print(y_RandomForest_predict)\n",
    "print(y_RandomForest_predict.shape)"
   ]
  },
  {
   "cell_type": "code",
   "execution_count": 77,
   "metadata": {
    "collapsed": false
   },
   "outputs": [
    {
     "name": "stdout",
     "output_type": "stream",
     "text": [
      "0.822819075817\n"
     ]
    }
   ],
   "source": [
    "# Function \"accuracy_score\" from \"sklearn.metrics\" will perform the element-to-element comparision and returns the \n",
    "# portion of correct predictions:\n",
    "from sklearn.metrics import accuracy_score\n",
    "score_RF = accuracy_score(y_test, y_RandomForest_predict)\n",
    "print(score_RF)"
   ]
  },
  {
   "cell_type": "markdown",
   "metadata": {},
   "source": [
    "#### Accuracy is 0.833994226438"
   ]
  },
  {
   "cell_type": "markdown",
   "metadata": {},
   "source": [
    "#### Step 12 : Perform AdaBoost"
   ]
  },
  {
   "cell_type": "code",
   "execution_count": 78,
   "metadata": {
    "collapsed": true
   },
   "outputs": [],
   "source": [
    "# Adaboost is a classifier which gives weightage to each features and reduces the errors in getting the best prediction\n",
    "\n",
    "from sklearn.ensemble import AdaBoostClassifier\n",
    "\n",
    "my_AdaBoost = AdaBoostClassifier(n_estimators=20,random_state=2)"
   ]
  },
  {
   "cell_type": "code",
   "execution_count": 79,
   "metadata": {
    "collapsed": false
   },
   "outputs": [
    {
     "data": {
      "text/plain": [
       "AdaBoostClassifier(algorithm='SAMME.R', base_estimator=None,\n",
       "          learning_rate=1.0, n_estimators=20, random_state=2)"
      ]
     },
     "execution_count": 79,
     "metadata": {},
     "output_type": "execute_result"
    }
   ],
   "source": [
    "#train the adaboost alg by using the FIT method\n",
    "\n",
    "my_AdaBoost.fit(X_transform,y_train,sample_weight=None)"
   ]
  },
  {
   "cell_type": "code",
   "execution_count": 80,
   "metadata": {
    "collapsed": false
   },
   "outputs": [
    {
     "name": "stdout",
     "output_type": "stream",
     "text": [
      "[1 1 1 ..., 1 0 1]\n",
      "(47285,)\n"
     ]
    }
   ],
   "source": [
    "#Make prediction over the trained Adaboost alg using the testing sample:\n",
    "\n",
    "y_adaboost_predict = my_AdaBoost.predict(X_transform_test)\n",
    "\n",
    "print(y_adaboost_predict)\n",
    "print(y_adaboost_predict.shape)"
   ]
  },
  {
   "cell_type": "code",
   "execution_count": 81,
   "metadata": {
    "collapsed": false
   },
   "outputs": [
    {
     "name": "stdout",
     "output_type": "stream",
     "text": [
      "0.839378238342\n"
     ]
    }
   ],
   "source": [
    "adaboost_score = accuracy_score(y_test, y_adaboost_predict)\n",
    "\n",
    "print(adaboost_score)"
   ]
  },
  {
   "cell_type": "markdown",
   "metadata": {},
   "source": [
    "#### Accuracy is 0.839462831765"
   ]
  },
  {
   "cell_type": "markdown",
   "metadata": {
    "collapsed": true
   },
   "source": [
    "###  TESTING DATASET"
   ]
  },
  {
   "cell_type": "markdown",
   "metadata": {},
   "source": [
    "#### Step 1 : Read the activity_testing dataset"
   ]
  },
  {
   "cell_type": "code",
   "execution_count": 25,
   "metadata": {
    "collapsed": false
   },
   "outputs": [
    {
     "data": {
      "text/html": [
       "<div>\n",
       "<table border=\"1\" class=\"dataframe\">\n",
       "  <thead>\n",
       "    <tr style=\"text-align: right;\">\n",
       "      <th></th>\n",
       "      <th>people_id</th>\n",
       "      <th>activity_id</th>\n",
       "      <th>date</th>\n",
       "      <th>activity_category</th>\n",
       "      <th>char_1</th>\n",
       "      <th>char_2</th>\n",
       "      <th>char_3</th>\n",
       "      <th>char_4</th>\n",
       "      <th>char_5</th>\n",
       "      <th>char_6</th>\n",
       "      <th>char_7</th>\n",
       "      <th>char_8</th>\n",
       "      <th>char_9</th>\n",
       "      <th>char_10</th>\n",
       "    </tr>\n",
       "  </thead>\n",
       "  <tbody>\n",
       "    <tr>\n",
       "      <th>0</th>\n",
       "      <td>ppl_100004</td>\n",
       "      <td>act1_249281</td>\n",
       "      <td>2022-07-20</td>\n",
       "      <td>type 1</td>\n",
       "      <td>type 5</td>\n",
       "      <td>type 10</td>\n",
       "      <td>type 5</td>\n",
       "      <td>type 1</td>\n",
       "      <td>type 6</td>\n",
       "      <td>type 1</td>\n",
       "      <td>type 1</td>\n",
       "      <td>type 7</td>\n",
       "      <td>type 4</td>\n",
       "      <td>NaN</td>\n",
       "    </tr>\n",
       "    <tr>\n",
       "      <th>1</th>\n",
       "      <td>ppl_100004</td>\n",
       "      <td>act2_230855</td>\n",
       "      <td>2022-07-20</td>\n",
       "      <td>type 5</td>\n",
       "      <td>NaN</td>\n",
       "      <td>NaN</td>\n",
       "      <td>NaN</td>\n",
       "      <td>NaN</td>\n",
       "      <td>NaN</td>\n",
       "      <td>NaN</td>\n",
       "      <td>NaN</td>\n",
       "      <td>NaN</td>\n",
       "      <td>NaN</td>\n",
       "      <td>type 682</td>\n",
       "    </tr>\n",
       "    <tr>\n",
       "      <th>2</th>\n",
       "      <td>ppl_10001</td>\n",
       "      <td>act1_240724</td>\n",
       "      <td>2022-10-14</td>\n",
       "      <td>type 1</td>\n",
       "      <td>type 12</td>\n",
       "      <td>type 1</td>\n",
       "      <td>type 5</td>\n",
       "      <td>type 4</td>\n",
       "      <td>type 6</td>\n",
       "      <td>type 1</td>\n",
       "      <td>type 1</td>\n",
       "      <td>type 13</td>\n",
       "      <td>type 10</td>\n",
       "      <td>NaN</td>\n",
       "    </tr>\n",
       "    <tr>\n",
       "      <th>3</th>\n",
       "      <td>ppl_10001</td>\n",
       "      <td>act1_83552</td>\n",
       "      <td>2022-11-27</td>\n",
       "      <td>type 1</td>\n",
       "      <td>type 20</td>\n",
       "      <td>type 10</td>\n",
       "      <td>type 5</td>\n",
       "      <td>type 4</td>\n",
       "      <td>type 6</td>\n",
       "      <td>type 1</td>\n",
       "      <td>type 1</td>\n",
       "      <td>type 5</td>\n",
       "      <td>type 5</td>\n",
       "      <td>NaN</td>\n",
       "    </tr>\n",
       "    <tr>\n",
       "      <th>4</th>\n",
       "      <td>ppl_10001</td>\n",
       "      <td>act2_1043301</td>\n",
       "      <td>2022-10-15</td>\n",
       "      <td>type 5</td>\n",
       "      <td>NaN</td>\n",
       "      <td>NaN</td>\n",
       "      <td>NaN</td>\n",
       "      <td>NaN</td>\n",
       "      <td>NaN</td>\n",
       "      <td>NaN</td>\n",
       "      <td>NaN</td>\n",
       "      <td>NaN</td>\n",
       "      <td>NaN</td>\n",
       "      <td>type 3015</td>\n",
       "    </tr>\n",
       "  </tbody>\n",
       "</table>\n",
       "</div>"
      ],
      "text/plain": [
       "    people_id   activity_id        date activity_category   char_1   char_2  \\\n",
       "0  ppl_100004   act1_249281  2022-07-20            type 1   type 5  type 10   \n",
       "1  ppl_100004   act2_230855  2022-07-20            type 5      NaN      NaN   \n",
       "2   ppl_10001   act1_240724  2022-10-14            type 1  type 12   type 1   \n",
       "3   ppl_10001    act1_83552  2022-11-27            type 1  type 20  type 10   \n",
       "4   ppl_10001  act2_1043301  2022-10-15            type 5      NaN      NaN   \n",
       "\n",
       "   char_3  char_4  char_5  char_6  char_7   char_8   char_9    char_10  \n",
       "0  type 5  type 1  type 6  type 1  type 1   type 7   type 4        NaN  \n",
       "1     NaN     NaN     NaN     NaN     NaN      NaN      NaN   type 682  \n",
       "2  type 5  type 4  type 6  type 1  type 1  type 13  type 10        NaN  \n",
       "3  type 5  type 4  type 6  type 1  type 1   type 5   type 5        NaN  \n",
       "4     NaN     NaN     NaN     NaN     NaN      NaN      NaN  type 3015  "
      ]
     },
     "execution_count": 25,
     "metadata": {},
     "output_type": "execute_result"
    }
   ],
   "source": [
    "df_test = pd.read_csv(\"act_test.csv\")\n",
    "\n",
    "df_test.head()"
   ]
  },
  {
   "cell_type": "markdown",
   "metadata": {},
   "source": [
    "#### Step 2 : Drop the features not required in activity_testing dataset"
   ]
  },
  {
   "cell_type": "code",
   "execution_count": 26,
   "metadata": {
    "collapsed": false
   },
   "outputs": [
    {
     "name": "stdout",
     "output_type": "stream",
     "text": [
      "     people_id activity_category   char_1   char_2  char_3  char_4  char_5  \\\n",
      "0   ppl_100004            type 1   type 5  type 10  type 5  type 1  type 6   \n",
      "2    ppl_10001            type 1  type 12   type 1  type 5  type 4  type 6   \n",
      "3    ppl_10001            type 1  type 20  type 10  type 5  type 4  type 6   \n",
      "27  ppl_100010            type 1   type 2   type 1  type 9  type 3  type 1   \n",
      "28  ppl_100010            type 1   type 2   type 1  type 5  type 3  type 1   \n",
      "\n",
      "    char_6  char_7   char_8   char_9  \n",
      "0   type 1  type 1   type 7   type 4  \n",
      "2   type 1  type 1  type 13  type 10  \n",
      "3   type 1  type 1   type 5   type 5  \n",
      "27  type 3  type 2   type 2   type 1  \n",
      "28  type 3  type 1   type 2   type 1  \n"
     ]
    },
    {
     "data": {
      "text/plain": [
       "(40092, 11)"
      ]
     },
     "execution_count": 26,
     "metadata": {},
     "output_type": "execute_result"
    }
   ],
   "source": [
    "#drop Charector column that are not required from feature matrix in activity table\n",
    "df_test = df_test.drop('activity_id', axis=1)\n",
    "df_test = df_test.drop('date', axis=1)\n",
    "df_test = df_test.drop('char_10', axis=1)\n",
    "\n",
    "# drop colums with NAN for easier machine learning and remove complexity\n",
    "df_test = df_test.dropna(how='any')\n",
    "\n",
    "print(df_test.head())\n",
    "df_test.shape"
   ]
  },
  {
   "cell_type": "markdown",
   "metadata": {},
   "source": [
    "#### Step 3 : Perform One Hot Encoding"
   ]
  },
  {
   "cell_type": "code",
   "execution_count": 27,
   "metadata": {
    "collapsed": false
   },
   "outputs": [
    {
     "name": "stdout",
     "output_type": "stream",
     "text": [
      "     people_id  type 1_left  type 1_right  type 10_left  type 11_left  \\\n",
      "0   ppl_100004            1             0             0             0   \n",
      "2    ppl_10001            1             0             0             0   \n",
      "3    ppl_10001            1             0             0             0   \n",
      "27  ppl_100010            1             0             0             0   \n",
      "28  ppl_100010            1             0             0             0   \n",
      "\n",
      "    type 12_left  type 13_left  type 14_left  type 15_left  type 16_left  \\\n",
      "0              0             0             0             0             0   \n",
      "2              1             0             0             0             0   \n",
      "3              0             0             0             0             0   \n",
      "27             0             0             0             0             0   \n",
      "28             0             0             0             0             0   \n",
      "\n",
      "     ...    type 18_right  type 19  type 2  type 3  type 4  type 5  \\\n",
      "0    ...                0        0       0       0       1       0   \n",
      "2    ...                0        0       0       0       0       0   \n",
      "3    ...                0        0       0       0       0       1   \n",
      "27   ...                0        0       0       0       0       0   \n",
      "28   ...                0        0       0       0       0       0   \n",
      "\n",
      "    type 6_right  type 7  type 8_right  type 9  \n",
      "0              0       0             0       0  \n",
      "2              0       0             0       0  \n",
      "3              0       0             0       0  \n",
      "27             0       0             0       0  \n",
      "28             0       0             0       0  \n",
      "\n",
      "[5 rows x 155 columns]\n"
     ]
    },
    {
     "data": {
      "text/plain": [
       "(40092, 155)"
      ]
     },
     "execution_count": 27,
     "metadata": {},
     "output_type": "execute_result"
    }
   ],
   "source": [
    "# perform Onehot encoding on remaining feature colums with testing dataset\n",
    "cols_to_transform = ['activity_category','char_1','char_2','char_3','char_4','char_5','char_6','char_7','char_8','char_9']\n",
    "for colums in cols_to_transform:\n",
    "    df_test_dummies = pd.get_dummies(df_test[colums])\n",
    "    df_test = df_test.drop(colums, axis=1)\n",
    "    df_test = df_test.join(df_test_dummies, lsuffix='_left', rsuffix='_right')\n",
    "\n",
    "print(df_test.head())\n",
    "df_test.shape"
   ]
  },
  {
   "cell_type": "markdown",
   "metadata": {},
   "source": [
    "#### Step 4 : Merge People dataset with activity_testing datset"
   ]
  },
  {
   "cell_type": "code",
   "execution_count": 28,
   "metadata": {
    "collapsed": false
   },
   "outputs": [
    {
     "data": {
      "text/html": [
       "<div>\n",
       "<table border=\"1\" class=\"dataframe\">\n",
       "  <thead>\n",
       "    <tr style=\"text-align: right;\">\n",
       "      <th></th>\n",
       "      <th>people_id</th>\n",
       "      <th>type 1_left_x</th>\n",
       "      <th>type 1_right_x</th>\n",
       "      <th>type 10_left_x</th>\n",
       "      <th>type 11_left_x</th>\n",
       "      <th>type 12_left_x</th>\n",
       "      <th>type 13_left_x</th>\n",
       "      <th>type 14_left_x</th>\n",
       "      <th>type 15_left_x</th>\n",
       "      <th>type 16_left_x</th>\n",
       "      <th>...</th>\n",
       "      <th>type 8_left_y</th>\n",
       "      <th>type 1</th>\n",
       "      <th>type 2_y</th>\n",
       "      <th>type 3_right_y</th>\n",
       "      <th>type 4_y</th>\n",
       "      <th>type 5_y</th>\n",
       "      <th>type 6</th>\n",
       "      <th>type 7_y</th>\n",
       "      <th>type 8_right_y</th>\n",
       "      <th>type 9_y</th>\n",
       "    </tr>\n",
       "  </thead>\n",
       "  <tbody>\n",
       "    <tr>\n",
       "      <th>0</th>\n",
       "      <td>ppl_100004</td>\n",
       "      <td>1</td>\n",
       "      <td>0</td>\n",
       "      <td>0</td>\n",
       "      <td>0</td>\n",
       "      <td>0</td>\n",
       "      <td>0</td>\n",
       "      <td>0</td>\n",
       "      <td>0</td>\n",
       "      <td>0</td>\n",
       "      <td>...</td>\n",
       "      <td>0</td>\n",
       "      <td>0</td>\n",
       "      <td>1</td>\n",
       "      <td>0</td>\n",
       "      <td>0</td>\n",
       "      <td>0</td>\n",
       "      <td>0</td>\n",
       "      <td>0</td>\n",
       "      <td>0</td>\n",
       "      <td>0</td>\n",
       "    </tr>\n",
       "    <tr>\n",
       "      <th>1</th>\n",
       "      <td>ppl_10001</td>\n",
       "      <td>1</td>\n",
       "      <td>0</td>\n",
       "      <td>0</td>\n",
       "      <td>0</td>\n",
       "      <td>1</td>\n",
       "      <td>0</td>\n",
       "      <td>0</td>\n",
       "      <td>0</td>\n",
       "      <td>0</td>\n",
       "      <td>...</td>\n",
       "      <td>0</td>\n",
       "      <td>0</td>\n",
       "      <td>1</td>\n",
       "      <td>0</td>\n",
       "      <td>0</td>\n",
       "      <td>0</td>\n",
       "      <td>0</td>\n",
       "      <td>0</td>\n",
       "      <td>0</td>\n",
       "      <td>0</td>\n",
       "    </tr>\n",
       "    <tr>\n",
       "      <th>2</th>\n",
       "      <td>ppl_10001</td>\n",
       "      <td>1</td>\n",
       "      <td>0</td>\n",
       "      <td>0</td>\n",
       "      <td>0</td>\n",
       "      <td>0</td>\n",
       "      <td>0</td>\n",
       "      <td>0</td>\n",
       "      <td>0</td>\n",
       "      <td>0</td>\n",
       "      <td>...</td>\n",
       "      <td>0</td>\n",
       "      <td>0</td>\n",
       "      <td>1</td>\n",
       "      <td>0</td>\n",
       "      <td>0</td>\n",
       "      <td>0</td>\n",
       "      <td>0</td>\n",
       "      <td>0</td>\n",
       "      <td>0</td>\n",
       "      <td>0</td>\n",
       "    </tr>\n",
       "    <tr>\n",
       "      <th>3</th>\n",
       "      <td>ppl_100010</td>\n",
       "      <td>1</td>\n",
       "      <td>0</td>\n",
       "      <td>0</td>\n",
       "      <td>0</td>\n",
       "      <td>0</td>\n",
       "      <td>0</td>\n",
       "      <td>0</td>\n",
       "      <td>0</td>\n",
       "      <td>0</td>\n",
       "      <td>...</td>\n",
       "      <td>0</td>\n",
       "      <td>1</td>\n",
       "      <td>0</td>\n",
       "      <td>0</td>\n",
       "      <td>0</td>\n",
       "      <td>0</td>\n",
       "      <td>0</td>\n",
       "      <td>0</td>\n",
       "      <td>0</td>\n",
       "      <td>0</td>\n",
       "    </tr>\n",
       "    <tr>\n",
       "      <th>4</th>\n",
       "      <td>ppl_100010</td>\n",
       "      <td>1</td>\n",
       "      <td>0</td>\n",
       "      <td>0</td>\n",
       "      <td>0</td>\n",
       "      <td>0</td>\n",
       "      <td>0</td>\n",
       "      <td>0</td>\n",
       "      <td>0</td>\n",
       "      <td>0</td>\n",
       "      <td>...</td>\n",
       "      <td>0</td>\n",
       "      <td>1</td>\n",
       "      <td>0</td>\n",
       "      <td>0</td>\n",
       "      <td>0</td>\n",
       "      <td>0</td>\n",
       "      <td>0</td>\n",
       "      <td>0</td>\n",
       "      <td>0</td>\n",
       "      <td>0</td>\n",
       "    </tr>\n",
       "  </tbody>\n",
       "</table>\n",
       "<p>5 rows × 315 columns</p>\n",
       "</div>"
      ],
      "text/plain": [
       "    people_id  type 1_left_x  type 1_right_x  type 10_left_x  type 11_left_x  \\\n",
       "0  ppl_100004              1               0               0               0   \n",
       "1   ppl_10001              1               0               0               0   \n",
       "2   ppl_10001              1               0               0               0   \n",
       "3  ppl_100010              1               0               0               0   \n",
       "4  ppl_100010              1               0               0               0   \n",
       "\n",
       "   type 12_left_x  type 13_left_x  type 14_left_x  type 15_left_x  \\\n",
       "0               0               0               0               0   \n",
       "1               1               0               0               0   \n",
       "2               0               0               0               0   \n",
       "3               0               0               0               0   \n",
       "4               0               0               0               0   \n",
       "\n",
       "   type 16_left_x    ...     type 8_left_y  type 1  type 2_y  type 3_right_y  \\\n",
       "0               0    ...                 0       0         1               0   \n",
       "1               0    ...                 0       0         1               0   \n",
       "2               0    ...                 0       0         1               0   \n",
       "3               0    ...                 0       1         0               0   \n",
       "4               0    ...                 0       1         0               0   \n",
       "\n",
       "   type 4_y  type 5_y  type 6  type 7_y  type 8_right_y  type 9_y  \n",
       "0         0         0       0         0               0         0  \n",
       "1         0         0       0         0               0         0  \n",
       "2         0         0       0         0               0         0  \n",
       "3         0         0       0         0               0         0  \n",
       "4         0         0       0         0               0         0  \n",
       "\n",
       "[5 rows x 315 columns]"
      ]
     },
     "execution_count": 28,
     "metadata": {},
     "output_type": "execute_result"
    }
   ],
   "source": [
    "df_new_test = df_test.merge(df, on='people_id',how='left')\n",
    "df_new_test.head()"
   ]
  },
  {
   "cell_type": "code",
   "execution_count": 29,
   "metadata": {
    "collapsed": false
   },
   "outputs": [
    {
     "data": {
      "text/html": [
       "<div>\n",
       "<table border=\"1\" class=\"dataframe\">\n",
       "  <thead>\n",
       "    <tr style=\"text-align: right;\">\n",
       "      <th></th>\n",
       "      <th>type 1_left_x</th>\n",
       "      <th>type 1_right_x</th>\n",
       "      <th>type 10_left_x</th>\n",
       "      <th>type 11_left_x</th>\n",
       "      <th>type 12_left_x</th>\n",
       "      <th>type 13_left_x</th>\n",
       "      <th>type 14_left_x</th>\n",
       "      <th>type 15_left_x</th>\n",
       "      <th>type 16_left_x</th>\n",
       "      <th>type 17_left_x</th>\n",
       "      <th>...</th>\n",
       "      <th>type 8_left_y</th>\n",
       "      <th>type 1</th>\n",
       "      <th>type 2_y</th>\n",
       "      <th>type 3_right_y</th>\n",
       "      <th>type 4_y</th>\n",
       "      <th>type 5_y</th>\n",
       "      <th>type 6</th>\n",
       "      <th>type 7_y</th>\n",
       "      <th>type 8_right_y</th>\n",
       "      <th>type 9_y</th>\n",
       "    </tr>\n",
       "  </thead>\n",
       "  <tbody>\n",
       "    <tr>\n",
       "      <th>0</th>\n",
       "      <td>1</td>\n",
       "      <td>0</td>\n",
       "      <td>0</td>\n",
       "      <td>0</td>\n",
       "      <td>0</td>\n",
       "      <td>0</td>\n",
       "      <td>0</td>\n",
       "      <td>0</td>\n",
       "      <td>0</td>\n",
       "      <td>0</td>\n",
       "      <td>...</td>\n",
       "      <td>0</td>\n",
       "      <td>0</td>\n",
       "      <td>1</td>\n",
       "      <td>0</td>\n",
       "      <td>0</td>\n",
       "      <td>0</td>\n",
       "      <td>0</td>\n",
       "      <td>0</td>\n",
       "      <td>0</td>\n",
       "      <td>0</td>\n",
       "    </tr>\n",
       "    <tr>\n",
       "      <th>1</th>\n",
       "      <td>1</td>\n",
       "      <td>0</td>\n",
       "      <td>0</td>\n",
       "      <td>0</td>\n",
       "      <td>1</td>\n",
       "      <td>0</td>\n",
       "      <td>0</td>\n",
       "      <td>0</td>\n",
       "      <td>0</td>\n",
       "      <td>0</td>\n",
       "      <td>...</td>\n",
       "      <td>0</td>\n",
       "      <td>0</td>\n",
       "      <td>1</td>\n",
       "      <td>0</td>\n",
       "      <td>0</td>\n",
       "      <td>0</td>\n",
       "      <td>0</td>\n",
       "      <td>0</td>\n",
       "      <td>0</td>\n",
       "      <td>0</td>\n",
       "    </tr>\n",
       "    <tr>\n",
       "      <th>2</th>\n",
       "      <td>1</td>\n",
       "      <td>0</td>\n",
       "      <td>0</td>\n",
       "      <td>0</td>\n",
       "      <td>0</td>\n",
       "      <td>0</td>\n",
       "      <td>0</td>\n",
       "      <td>0</td>\n",
       "      <td>0</td>\n",
       "      <td>0</td>\n",
       "      <td>...</td>\n",
       "      <td>0</td>\n",
       "      <td>0</td>\n",
       "      <td>1</td>\n",
       "      <td>0</td>\n",
       "      <td>0</td>\n",
       "      <td>0</td>\n",
       "      <td>0</td>\n",
       "      <td>0</td>\n",
       "      <td>0</td>\n",
       "      <td>0</td>\n",
       "    </tr>\n",
       "    <tr>\n",
       "      <th>3</th>\n",
       "      <td>1</td>\n",
       "      <td>0</td>\n",
       "      <td>0</td>\n",
       "      <td>0</td>\n",
       "      <td>0</td>\n",
       "      <td>0</td>\n",
       "      <td>0</td>\n",
       "      <td>0</td>\n",
       "      <td>0</td>\n",
       "      <td>0</td>\n",
       "      <td>...</td>\n",
       "      <td>0</td>\n",
       "      <td>1</td>\n",
       "      <td>0</td>\n",
       "      <td>0</td>\n",
       "      <td>0</td>\n",
       "      <td>0</td>\n",
       "      <td>0</td>\n",
       "      <td>0</td>\n",
       "      <td>0</td>\n",
       "      <td>0</td>\n",
       "    </tr>\n",
       "    <tr>\n",
       "      <th>4</th>\n",
       "      <td>1</td>\n",
       "      <td>0</td>\n",
       "      <td>0</td>\n",
       "      <td>0</td>\n",
       "      <td>0</td>\n",
       "      <td>0</td>\n",
       "      <td>0</td>\n",
       "      <td>0</td>\n",
       "      <td>0</td>\n",
       "      <td>0</td>\n",
       "      <td>...</td>\n",
       "      <td>0</td>\n",
       "      <td>1</td>\n",
       "      <td>0</td>\n",
       "      <td>0</td>\n",
       "      <td>0</td>\n",
       "      <td>0</td>\n",
       "      <td>0</td>\n",
       "      <td>0</td>\n",
       "      <td>0</td>\n",
       "      <td>0</td>\n",
       "    </tr>\n",
       "  </tbody>\n",
       "</table>\n",
       "<p>5 rows × 314 columns</p>\n",
       "</div>"
      ],
      "text/plain": [
       "   type 1_left_x  type 1_right_x  type 10_left_x  type 11_left_x  \\\n",
       "0              1               0               0               0   \n",
       "1              1               0               0               0   \n",
       "2              1               0               0               0   \n",
       "3              1               0               0               0   \n",
       "4              1               0               0               0   \n",
       "\n",
       "   type 12_left_x  type 13_left_x  type 14_left_x  type 15_left_x  \\\n",
       "0               0               0               0               0   \n",
       "1               1               0               0               0   \n",
       "2               0               0               0               0   \n",
       "3               0               0               0               0   \n",
       "4               0               0               0               0   \n",
       "\n",
       "   type 16_left_x  type 17_left_x    ...     type 8_left_y  type 1  type 2_y  \\\n",
       "0               0               0    ...                 0       0         1   \n",
       "1               0               0    ...                 0       0         1   \n",
       "2               0               0    ...                 0       0         1   \n",
       "3               0               0    ...                 0       1         0   \n",
       "4               0               0    ...                 0       1         0   \n",
       "\n",
       "   type 3_right_y  type 4_y  type 5_y  type 6  type 7_y  type 8_right_y  \\\n",
       "0               0         0         0       0         0               0   \n",
       "1               0         0         0       0         0               0   \n",
       "2               0         0         0       0         0               0   \n",
       "3               0         0         0       0         0               0   \n",
       "4               0         0         0       0         0               0   \n",
       "\n",
       "   type 9_y  \n",
       "0         0  \n",
       "1         0  \n",
       "2         0  \n",
       "3         0  \n",
       "4         0  \n",
       "\n",
       "[5 rows x 314 columns]"
      ]
     },
     "execution_count": 29,
     "metadata": {},
     "output_type": "execute_result"
    }
   ],
   "source": [
    "#Drop the People id as we have a updated Merged table with people and activity\n",
    "df_new_test = df_new_test.drop('people_id', axis=1)\n",
    "X_test = df_new_test\n",
    "X_test.head()\n"
   ]
  },
  {
   "cell_type": "markdown",
   "metadata": {},
   "source": [
    "#### Step 5 : Reduce dimensions"
   ]
  },
  {
   "cell_type": "code",
   "execution_count": 30,
   "metadata": {
    "collapsed": false
   },
   "outputs": [
    {
     "name": "stdout",
     "output_type": "stream",
     "text": [
      "          0         1         2         3         4         5         6   \\\n",
      "0  27.568422  3.130501  1.416780  1.275320  0.280144 -0.265865  0.162439   \n",
      "1  41.573366  2.890950  1.359723 -0.269317  0.554957 -0.662409 -1.043242   \n",
      "2  41.574411  2.877926  1.272130 -0.459258  0.502540 -0.404056 -0.987036   \n",
      "3 -46.543884  0.258002 -0.122538 -0.703605 -0.926145  0.470001 -0.106253   \n",
      "4 -46.543065  0.346750  0.566292 -0.663942 -0.728709  0.009798 -0.256496   \n",
      "\n",
      "         7         8         9     ...           40        41        42  \\\n",
      "0 -0.902751  0.015387  0.678527    ...    -0.029197 -0.244378  0.218297   \n",
      "1 -0.325992 -0.379829 -0.065221    ...     0.273841  0.326562  0.218507   \n",
      "2 -0.476316 -0.129577 -0.024561    ...     0.229996  0.191443  0.580320   \n",
      "3  0.607538  0.291368 -1.403087    ...     0.139849 -0.710674 -0.178887   \n",
      "4  0.462982  0.041041 -1.276011    ...     0.332130 -0.884987 -0.507679   \n",
      "\n",
      "         43        44        45        46        47        48        49  \n",
      "0 -0.574010  0.619054 -0.354506  0.224398  0.101431  0.037178  0.035372  \n",
      "1  0.449390  0.409760  0.104739  0.005502 -0.123424  0.260705  0.069634  \n",
      "2  0.286166  0.002383 -0.277735 -0.290582  0.199242  0.364824  0.031558  \n",
      "3 -0.145967  0.181300  0.787045 -0.121388 -0.040493 -0.082028 -0.161963  \n",
      "4 -0.191227 -0.011680  0.698266 -0.183140 -0.090990 -0.195899 -0.224863  \n",
      "\n",
      "[5 rows x 50 columns]\n"
     ]
    }
   ],
   "source": [
    "\n",
    "# transform the vector for training set\n",
    "X_test_transform = pca.fit_transform(X_test)\n",
    "\n",
    "# put it into a dataframe\n",
    "X_test_transform = pd.DataFrame(X_test_transform)\n",
    "print(X_test_transform.head())"
   ]
  },
  {
   "cell_type": "markdown",
   "metadata": {},
   "source": [
    "#### Step 6 : Make Predictions"
   ]
  },
  {
   "cell_type": "code",
   "execution_count": 31,
   "metadata": {
    "collapsed": false
   },
   "outputs": [
    {
     "name": "stdout",
     "output_type": "stream",
     "text": [
      "[1 1 1 ..., 1 1 1]\n",
      "(40092,)\n"
     ]
    }
   ],
   "source": [
    "#Make prediction over the trained RandomForest alg using the testing sample:\n",
    "\n",
    "y_RandomForest_predict_test = my_RandomForest.predict(X_test_transform)\n",
    "\n",
    "print(y_RandomForest_predict_test)\n",
    "print(y_RandomForest_predict_test.shape)"
   ]
  },
  {
   "cell_type": "markdown",
   "metadata": {},
   "source": [
    "#### Step 7 : Save the results into a csv file"
   ]
  },
  {
   "cell_type": "code",
   "execution_count": 32,
   "metadata": {
    "collapsed": false
   },
   "outputs": [],
   "source": [
    "np.savetxt('myresultRedHat.csv', \n",
    "           y_RandomForest_predict_test, \n",
    "           delimiter=',', \n",
    "           fmt='%3i', \n",
    "           header='Results of Random tree prediction')\n"
   ]
  },
  {
   "cell_type": "code",
   "execution_count": null,
   "metadata": {
    "collapsed": true
   },
   "outputs": [],
   "source": []
  }
 ],
 "metadata": {
  "anaconda-cloud": {},
  "kernelspec": {
   "display_name": "Python 3",
   "language": "python",
   "name": "python3"
  },
  "language_info": {
   "codemirror_mode": {
    "name": "ipython",
    "version": 3
   },
   "file_extension": ".py",
   "mimetype": "text/x-python",
   "name": "python",
   "nbconvert_exporter": "python",
   "pygments_lexer": "ipython3",
   "version": "3.6.0"
  }
 },
 "nbformat": 4,
 "nbformat_minor": 0
}
